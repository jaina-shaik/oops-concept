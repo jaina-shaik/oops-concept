{
 "cells": [
  {
   "cell_type": "code",
   "execution_count": 3,
   "metadata": {},
   "outputs": [
    {
     "name": "stdout",
     "output_type": "stream",
     "text": [
      "hello python oops concept start from today\n"
     ]
    }
   ],
   "source": [
    "class python:\n",
    "    \"hello python oops concept start from today\"\n",
    "print(python.__doc__)"
   ]
  },
  {
   "cell_type": "code",
   "execution_count": 4,
   "metadata": {},
   "outputs": [
    {
     "name": "stdout",
     "output_type": "stream",
     "text": [
      "Help on class python in module __main__:\n",
      "\n",
      "class python(builtins.object)\n",
      " |  hello python oops concept start from today\n",
      " |  \n",
      " |  Data descriptors defined here:\n",
      " |  \n",
      " |  __dict__\n",
      " |      dictionary for instance variables (if defined)\n",
      " |  \n",
      " |  __weakref__\n",
      " |      list of weak references to the object (if defined)\n",
      "\n"
     ]
    }
   ],
   "source": [
    "help(python)"
   ]
  },
  {
   "cell_type": "code",
   "execution_count": null,
   "metadata": {},
   "outputs": [],
   "source": [
    "#example program of class with variables and methods\n"
   ]
  },
  {
   "cell_type": "code",
   "execution_count": 8,
   "metadata": {},
   "outputs": [
    {
     "name": "stdout",
     "output_type": "stream",
     "text": [
      "hello i am jaina\n",
      "my age is 19\n",
      "my marks is 100\n"
     ]
    }
   ],
   "source": [
    "class student:\n",
    "    \"this is the class of student\"\n",
    "    def __init__(self):\n",
    "     self.name=\"jaina\"\n",
    "     self.age=19\n",
    "     self.marks=100\n",
    "    def details(self):\n",
    "     print(\"hello i am\",self.name)\n",
    "     print(\"my age is\",self.age)\n",
    "     print(\"my marks is\",self.marks)\n",
    "d=student()\n",
    "d.details()"
   ]
  },
  {
   "cell_type": "code",
   "execution_count": 11,
   "metadata": {},
   "outputs": [
    {
     "name": "stdout",
     "output_type": "stream",
     "text": [
      "constructor execution\n",
      "constructor execution\n",
      "method execution\n",
      "method execution\n"
     ]
    }
   ],
   "source": [
    "class test():\n",
    "    def __init__(self):\n",
    "        print(\"constructor execution\")\n",
    "    def m(self):\n",
    "        print(\"method execution\")\n",
    "3d1=test()\n",
    "d2=test()\n",
    "d1.m()\n",
    "d2.m()"
   ]
  },
  {
   "cell_type": "markdown",
   "metadata": {},
   "source": [
    "# types of variables"
   ]
  },
  {
   "cell_type": "markdown",
   "metadata": {},
   "source": [
    "## 1.instance variable"
   ]
  },
  {
   "cell_type": "code",
   "execution_count": 3,
   "metadata": {
    "scrolled": true
   },
   "outputs": [
    {
     "name": "stdout",
     "output_type": "stream",
     "text": [
      "{'eno': 100, 'name': 'jaina'}\n"
     ]
    }
   ],
   "source": [
    "class employee:\n",
    "    def __init__(self):\n",
    "        self.eno=100\n",
    "        self.name=\"jaina\"\n",
    "e=employee()\n",
    "print(e.__dict__)"
   ]
  },
  {
   "cell_type": "code",
   "execution_count": 4,
   "metadata": {
    "scrolled": true
   },
   "outputs": [
    {
     "name": "stdout",
     "output_type": "stream",
     "text": [
      "{'eno': 100, 'name': 'jaina'}\n"
     ]
    }
   ],
   "source": [
    "class employee:\n",
    "    def __init__(self):\n",
    "        self.eno=100\n",
    "        self.name=\"jaina\"\n",
    "\n",
    "print(e.__dict__)"
   ]
  },
  {
   "cell_type": "code",
   "execution_count": 23,
   "metadata": {},
   "outputs": [
    {
     "name": "stdout",
     "output_type": "stream",
     "text": [
      "{'a': 10, 'b': 20, 'c': 30}\n",
      "{'a': 10, 'b': 20, 'c': 30}\n"
     ]
    }
   ],
   "source": [
    "class test:\n",
    "    def __init__(self):\n",
    "        self.a=10\n",
    "        self.b=20\n",
    "    def m(self):\n",
    "        self.c=30\n",
    "t=test()\n",
    "t1=test()\n",
    "t.m()\n",
    "t1.m()\n",
    "print(t.__dict__)\n",
    "print(t1.__dict__)"
   ]
  },
  {
   "cell_type": "code",
   "execution_count": 13,
   "metadata": {},
   "outputs": [
    {
     "name": "stdout",
     "output_type": "stream",
     "text": [
      "{'a': 10, 'b': 20, 'c': 30}\n"
     ]
    }
   ],
   "source": [
    "class jaina:\n",
    "    def __init__(self):\n",
    "        self.x=10\n",
    "print(t.__dict__)        \n",
    "        "
   ]
  },
  {
   "cell_type": "code",
   "execution_count": 21,
   "metadata": {},
   "outputs": [
    {
     "name": "stdout",
     "output_type": "stream",
     "text": [
      "{'z': 40}\n",
      "{'z': 40}\n"
     ]
    }
   ],
   "source": [
    "class ajju:\n",
    "    def __init__(self):\n",
    "        self.z=40\n",
    "a=ajju()\n",
    "a1=ajju()\n",
    "print(a.__dict__)            \n",
    "print(a1.__dict__)"
   ]
  },
  {
   "cell_type": "code",
   "execution_count": 25,
   "metadata": {},
   "outputs": [
    {
     "name": "stdout",
     "output_type": "stream",
     "text": [
      "{'a': 10, 'b': 4, 'c': 7, 'd': 100}\n"
     ]
    }
   ],
   "source": [
    "class test:\n",
    "    def __init__(self):\n",
    "        self.a=10\n",
    "        self.b=4\n",
    "    def m(self):\n",
    "        self.c=7\n",
    "t=test()\n",
    "t.m()\n",
    "t.d=100\n",
    "print(t.__dict__)"
   ]
  },
  {
   "cell_type": "code",
   "execution_count": 28,
   "metadata": {},
   "outputs": [
    {
     "name": "stdout",
     "output_type": "stream",
     "text": [
      "10\n",
      "20\n",
      "30\n"
     ]
    }
   ],
   "source": [
    "class marks:\n",
    "    def __init__(self):\n",
    "        self.x=10\n",
    "        self.y=20\n",
    "        self.z=30\n",
    "    def m(self):\n",
    "        self.w=40\n",
    "        print(self.x)\n",
    "        print(self.y)\n",
    "        print(self.z)\n",
    "p=marks()\n",
    "p.m()"
   ]
  },
  {
   "cell_type": "code",
   "execution_count": 30,
   "metadata": {},
   "outputs": [
    {
     "name": "stdout",
     "output_type": "stream",
     "text": [
      "10 20 30\n"
     ]
    }
   ],
   "source": [
    "class marks:\n",
    "    def __init__(self):\n",
    "        self.x=10\n",
    "        self.y=20\n",
    "        self.z=30\n",
    "    def m(self):\n",
    "        self.w=40\n",
    "p=marks()\n",
    "p.m()\n",
    "print(p.x,p.y,p.z)"
   ]
  },
  {
   "cell_type": "code",
   "execution_count": 36,
   "metadata": {},
   "outputs": [
    {
     "name": "stdout",
     "output_type": "stream",
     "text": [
      "{'a': 10}\n"
     ]
    }
   ],
   "source": [
    "class shaik:\n",
    "    def __init__(self):\n",
    "        self.a=10\n",
    "    def m(self):\n",
    "        self.b=20\n",
    "\n",
    "\n",
    "print(s.__dict__)\n"
   ]
  },
  {
   "cell_type": "code",
   "execution_count": 50,
   "metadata": {},
   "outputs": [
    {
     "name": "stdout",
     "output_type": "stream",
     "text": [
      "{'x': 10, 'z': 20}\n"
     ]
    }
   ],
   "source": [
    "class yaku:\n",
    "    def __init__(self):\n",
    "        self.x=10 \n",
    "    def m(self):\n",
    "        self.z=20\n",
    "y=yaku()\n",
    "y.m()\n",
    "print(y.__dict__)        "
   ]
  },
  {
   "cell_type": "markdown",
   "metadata": {},
   "source": [
    "# How to delete instance variables from object"
   ]
  },
  {
   "cell_type": "code",
   "execution_count": 3,
   "metadata": {},
   "outputs": [
    {
     "name": "stdout",
     "output_type": "stream",
     "text": [
      "{'b': 20, 'c': 30, 'd': 40}\n"
     ]
    }
   ],
   "source": [
    "class test:\n",
    "    def __init__(self):\n",
    "        self.a=10\n",
    "        self.b=20\n",
    "        self.c=30\n",
    "        self.d=40\n",
    "    def m(self):\n",
    "        self.e=50\n",
    "t=test()\n",
    "t.m()\n",
    "del t.a\n",
    "del t.e\n",
    "print(t.__dict__)"
   ]
  },
  {
   "cell_type": "code",
   "execution_count": 5,
   "metadata": {},
   "outputs": [
    {
     "name": "stdout",
     "output_type": "stream",
     "text": [
      "{'a': 10, 'b': 20, 'd': 40, 'e': 50}\n"
     ]
    }
   ],
   "source": [
    "class test:\n",
    "    def __init__(self):\n",
    "        self.a=10\n",
    "        self.b=20\n",
    "        self.c=30\n",
    "        self.d=40\n",
    "        del self.c\n",
    "    def m(self):\n",
    "        self.e=50\n",
    "t=test()\n",
    "t.m()\n",
    "print(t.__dict__)"
   ]
  },
  {
   "cell_type": "code",
   "execution_count": 7,
   "metadata": {},
   "outputs": [
    {
     "name": "stdout",
     "output_type": "stream",
     "text": [
      "{'a': 10, 'c': 30, 'd': 40, 'e': 50}\n"
     ]
    }
   ],
   "source": [
    "class test:\n",
    "    def __init__(self):\n",
    "        self.a=10\n",
    "        self.b=20\n",
    "        self.c=30\n",
    "        self.d=40\n",
    "        \n",
    "    def m(self):\n",
    "        self.e=50\n",
    "        del self.b\n",
    "t=test()\n",
    "t.m()\n",
    "print(t.__dict__)"
   ]
  },
  {
   "cell_type": "code",
   "execution_count": 6,
   "metadata": {},
   "outputs": [
    {
     "name": "stdout",
     "output_type": "stream",
     "text": [
      "{'c': 30}\n"
     ]
    }
   ],
   "source": [
    "class test:\n",
    "    def __int__(self):\n",
    "        self.a=10\n",
    "        self.b=20\n",
    "    def m(self):\n",
    "        self.c=30\n",
    "t1=test()\n",
    "#t2=test()\n",
    "t1.m()\n",
    "#t2.m()\n",
    "print(t1.__dict__)\n",
    "#print(t2.__dict__)\n",
    "        "
   ]
  },
  {
   "cell_type": "code",
   "execution_count": 12,
   "metadata": {},
   "outputs": [
    {
     "name": "stdout",
     "output_type": "stream",
     "text": [
      "{'x': 10, 'y': 20, 'z': 30, 'w': 40, 't': 50}\n",
      "{'x': 10, 'y': 20, 'z': 30, 'w': 40, 't': 50}\n",
      "{'y': 20, 'z': 30, 't': 50}\n",
      "{'x': 10, 'y': 20, 'w': 40, 't': 50}\n"
     ]
    }
   ],
   "source": [
    "class ntr:\n",
    "    def __init__(self):\n",
    "        self.x=10\n",
    "        self.y=20\n",
    "        self.z=30\n",
    "    def m1(self):\n",
    "        self.w=40\n",
    "        self.t=50\n",
    "n=ntr()\n",
    "n1=ntr()\n",
    "n1.m1()\n",
    "n.m1()\n",
    "print(n.__dict__)\n",
    "print(n1.__dict__)\n",
    "del n.x\n",
    "del n.w\n",
    "del n1.z\n",
    "print(n.__dict__)\n",
    "print(n1.__dict__)"
   ]
  },
  {
   "cell_type": "code",
   "execution_count": 13,
   "metadata": {},
   "outputs": [
    {
     "name": "stdout",
     "output_type": "stream",
     "text": [
      "{'x': 10, 'y': 20, 'z': 30, 'w': 40, 't': 50}\n",
      "{'x': 10, 'y': 20, 'z': 30, 'w': 40, 't': 50}\n",
      "{'x': 999, 'y': 20, 'z': 30, 'w': 40, 't': 50}\n",
      "{'x': 10, 'y': 20, 'z': 30, 'w': 1000, 't': 50}\n"
     ]
    }
   ],
   "source": [
    "class ntr:\n",
    "    def __init__(self):\n",
    "        self.x=10\n",
    "        self.y=20\n",
    "        self.z=30\n",
    "    def m1(self):\n",
    "        self.w=40\n",
    "        self.t=50\n",
    "n=ntr()\n",
    "n1=ntr()\n",
    "n1.m1()\n",
    "n.m1()\n",
    "print(n.__dict__)\n",
    "print(n1.__dict__)\n",
    "n.x=999\n",
    "n1.w=1000\n",
    "print(n.__dict__)\n",
    "print(n1.__dict__)"
   ]
  },
  {
   "cell_type": "markdown",
   "metadata": {},
   "source": [
    "# static variable"
   ]
  },
  {
   "cell_type": "code",
   "execution_count": 19,
   "metadata": {},
   "outputs": [
    {
     "name": "stdout",
     "output_type": "stream",
     "text": [
      "100 200\n",
      "100 200\n",
      "2000 3000\n",
      "2000 200\n"
     ]
    }
   ],
   "source": [
    "class kcr:\n",
    "    j=100\n",
    "    def __init__(self):\n",
    "        self.a=200\n",
    "k=kcr()\n",
    "k1=kcr()\n",
    "print(k.j,k.a)\n",
    "print(k1.j,k1.a)\n",
    "kcr.j=2000\n",
    "k.a=3000\n",
    "\n",
    "print(k.j,k.a)\n",
    "print(k1.j,k1.a)\n",
    "    "
   ]
  },
  {
   "cell_type": "code",
   "execution_count": 22,
   "metadata": {},
   "outputs": [
    {
     "name": "stdout",
     "output_type": "stream",
     "text": [
      "{'__module__': '__main__', 'a': 10, '__init__': <function phone.__init__ at 0x000001DBFDE8B9D0>, 'm': <function phone.m at 0x000001DBFDE8B790>, 'm1': <classmethod object at 0x000001DBFDE96100>, 'm2': <staticmethod object at 0x000001DBFDEAA250>, '__dict__': <attribute '__dict__' of 'phone' objects>, '__weakref__': <attribute '__weakref__' of 'phone' objects>, '__doc__': None}\n",
      "{}\n"
     ]
    }
   ],
   "source": [
    "class phone:\n",
    "    a=10\n",
    "    def __init__(self):\n",
    "        phone.b=20\n",
    "    def m(self):\n",
    "        phone.c=30\n",
    "    @classmethod\n",
    "    def m1(cls):\n",
    "        cls.d=40\n",
    "    @staticmethod\n",
    "    def m2():\n",
    "        test.f=50\n",
    "print(phone.__dict__)        \n",
    "p=phone()\n",
    "p.m()\n",
    "p.m1()\n",
    "p.m2()\n",
    "print(p.__dict__)\n"
   ]
  },
  {
   "cell_type": "code",
   "execution_count": 27,
   "metadata": {},
   "outputs": [
    {
     "name": "stdout",
     "output_type": "stream",
     "text": [
      "100\n",
      "100\n",
      "100\n",
      "100\n",
      "100\n",
      "100\n",
      "100\n",
      "100\n",
      "100\n"
     ]
    }
   ],
   "source": [
    "class jai:\n",
    "    x=100\n",
    "    def __init__(self):\n",
    "        print(self.x)\n",
    "        print(jai.x)\n",
    "    def m(self):\n",
    "        print(self.x)\n",
    "        print(jai.x)\n",
    "    def m1(cls):\n",
    "        print(cls.x)\n",
    "        print(jai.x)\n",
    "    @staticmethod    \n",
    "    def m2():\n",
    "        print(jai.x)\n",
    "j=jai()\n",
    "print(j.x)\n",
    "print(jai.x)\n",
    "j.m()\n",
    "j.m1()\n",
    "j.m2()\n"
   ]
  },
  {
   "cell_type": "code",
   "execution_count": 40,
   "metadata": {},
   "outputs": [
    {
     "name": "stdout",
     "output_type": "stream",
     "text": [
      "200\n",
      "500\n",
      "600\n",
      "600\n"
     ]
    }
   ],
   "source": [
    "class sunny:\n",
    "    u=200\n",
    "    def __init__(self):\n",
    "        sunny.u=300\n",
    "        print(sunnny.u)\n",
    "    \n",
    "    @classmethod    \n",
    "    def m2(cls):\n",
    "        sunny.u=500\n",
    "        print(sunny.u)\n",
    "        \n",
    "    @staticmethod\n",
    "    def m3():\n",
    "        sunny.u=600\n",
    "        print(sunny.u)\n",
    "print(sunny.u) \n",
    "\n",
    "sunny.m2()\n",
    "#sunny.m1()\n",
    "sunny.m3()\n",
    "\n",
    "print(sunny.u)"
   ]
  },
  {
   "cell_type": "code",
   "execution_count": 43,
   "metadata": {},
   "outputs": [
    {
     "name": "stdout",
     "output_type": "stream",
     "text": [
      "100\n"
     ]
    }
   ],
   "source": [
    "class test:\n",
    "    a=100\n",
    "    def __init__(self):\n",
    "        del test.a\n",
    "print(test.a)        "
   ]
  },
  {
   "cell_type": "code",
   "execution_count": null,
   "metadata": {},
   "outputs": [],
   "source": []
  },
  {
   "cell_type": "code",
   "execution_count": 44,
   "metadata": {},
   "outputs": [
    {
     "name": "stdout",
     "output_type": "stream",
     "text": [
      "100\n"
     ]
    },
    {
     "ename": "AttributeError",
     "evalue": "type object 'test' has no attribute 'a'",
     "output_type": "error",
     "traceback": [
      "\u001b[1;31m---------------------------------------------------------------------------\u001b[0m",
      "\u001b[1;31mAttributeError\u001b[0m                            Traceback (most recent call last)",
      "\u001b[1;32m<ipython-input-44-bb626bf42b66>\u001b[0m in \u001b[0;36m<module>\u001b[1;34m\u001b[0m\n\u001b[0;32m      5\u001b[0m \u001b[0mprint\u001b[0m\u001b[1;33m(\u001b[0m\u001b[0mtest\u001b[0m\u001b[1;33m.\u001b[0m\u001b[0ma\u001b[0m\u001b[1;33m)\u001b[0m\u001b[1;33m\u001b[0m\u001b[1;33m\u001b[0m\u001b[0m\n\u001b[0;32m      6\u001b[0m \u001b[0mt\u001b[0m\u001b[1;33m=\u001b[0m\u001b[0mtest\u001b[0m\u001b[1;33m(\u001b[0m\u001b[1;33m)\u001b[0m\u001b[1;33m\u001b[0m\u001b[1;33m\u001b[0m\u001b[0m\n\u001b[1;32m----> 7\u001b[1;33m \u001b[0mprint\u001b[0m\u001b[1;33m(\u001b[0m\u001b[0mtest\u001b[0m\u001b[1;33m.\u001b[0m\u001b[0ma\u001b[0m\u001b[1;33m)\u001b[0m\u001b[1;33m\u001b[0m\u001b[1;33m\u001b[0m\u001b[0m\n\u001b[0m",
      "\u001b[1;31mAttributeError\u001b[0m: type object 'test' has no attribute 'a'"
     ]
    }
   ],
   "source": [
    "class test:\n",
    "    a=100\n",
    "    def __init__(self):\n",
    "        del test.a\n",
    "print(test.a)  \n",
    "t=test()\n",
    "print(test.a)"
   ]
  },
  {
   "cell_type": "code",
   "execution_count": 45,
   "metadata": {},
   "outputs": [
    {
     "name": "stdout",
     "output_type": "stream",
     "text": [
      "100\n"
     ]
    },
    {
     "ename": "AttributeError",
     "evalue": "'test' object has no attribute 'a'",
     "output_type": "error",
     "traceback": [
      "\u001b[1;31m---------------------------------------------------------------------------\u001b[0m",
      "\u001b[1;31mAttributeError\u001b[0m                            Traceback (most recent call last)",
      "\u001b[1;32m<ipython-input-45-b0c47cdaacbd>\u001b[0m in \u001b[0;36m<module>\u001b[1;34m\u001b[0m\n\u001b[0;32m      6\u001b[0m \u001b[0mt\u001b[0m\u001b[1;33m=\u001b[0m\u001b[0mtest\u001b[0m\u001b[1;33m(\u001b[0m\u001b[1;33m)\u001b[0m\u001b[1;33m\u001b[0m\u001b[1;33m\u001b[0m\u001b[0m\n\u001b[0;32m      7\u001b[0m \u001b[0mt\u001b[0m\u001b[1;33m.\u001b[0m\u001b[0mm\u001b[0m\u001b[1;33m(\u001b[0m\u001b[1;33m)\u001b[0m\u001b[1;33m\u001b[0m\u001b[1;33m\u001b[0m\u001b[0m\n\u001b[1;32m----> 8\u001b[1;33m \u001b[0mprint\u001b[0m\u001b[1;33m(\u001b[0m\u001b[0mt\u001b[0m\u001b[1;33m.\u001b[0m\u001b[0ma\u001b[0m\u001b[1;33m)\u001b[0m\u001b[1;33m\u001b[0m\u001b[1;33m\u001b[0m\u001b[0m\n\u001b[0m\u001b[0;32m      9\u001b[0m \u001b[1;33m\u001b[0m\u001b[0m\n\u001b[0;32m     10\u001b[0m \u001b[1;33m\u001b[0m\u001b[0m\n",
      "\u001b[1;31mAttributeError\u001b[0m: 'test' object has no attribute 'a'"
     ]
    }
   ],
   "source": [
    "class test:\n",
    "    a=100\n",
    "    def m(self):\n",
    "        del test.a\n",
    "print(test.a)\n",
    "t=test()\n",
    "t.m()\n",
    "print(t.a)\n",
    "        \n",
    "        "
   ]
  },
  {
   "cell_type": "code",
   "execution_count": null,
   "metadata": {},
   "outputs": [],
   "source": []
  }
 ],
 "metadata": {
  "kernelspec": {
   "display_name": "Python 3",
   "language": "python",
   "name": "python3"
  },
  "language_info": {
   "codemirror_mode": {
    "name": "ipython",
    "version": 3
   },
   "file_extension": ".py",
   "mimetype": "text/x-python",
   "name": "python",
   "nbconvert_exporter": "python",
   "pygments_lexer": "ipython3",
   "version": "3.8.5"
  }
 },
 "nbformat": 4,
 "nbformat_minor": 4
}
